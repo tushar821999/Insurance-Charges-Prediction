{
  "nbformat": 4,
  "nbformat_minor": 0,
  "metadata": {
    "colab": {
      "name": "Copy of InsuraceChargesPrediction.ipynb",
      "provenance": [],
      "include_colab_link": true
    },
    "kernelspec": {
      "name": "python3",
      "display_name": "Python 3"
    }
  },
  "cells": [
    {
      "cell_type": "markdown",
      "metadata": {
        "id": "view-in-github",
        "colab_type": "text"
      },
      "source": [
        "<a href=\"https://colab.research.google.com/github/Abhijeet-Katiyar/Insurance-Charges-Prediction/blob/Abhijeet/InsuraceChargesPrediction.ipynb\" target=\"_parent\"><img src=\"https://colab.research.google.com/assets/colab-badge.svg\" alt=\"Open In Colab\"/></a>"
      ]
    },
    {
      "cell_type": "markdown",
      "metadata": {
        "id": "y1EfqCkrgv_p",
        "colab_type": "text"
      },
      "source": [
        "LOAD THE (insurance.csv) DATASET"
      ]
    },
    {
      "cell_type": "code",
      "metadata": {
        "id": "Rpa_pqHjd5ee",
        "colab_type": "code",
        "colab": {}
      },
      "source": [
        "# Importing Pandas Library\n",
        "import pandas as pd \n",
        "# Load Insurance.csv DataSet\n",
        "#df = pd.read_csv(\"/content/drive/My Drive/DataSets/insurance.csv\")\n",
        "# Loading data from github\n",
        "\n",
        "url = 'https://raw.githubusercontent.com/tushar821999/Insurance-Charges-Prediction/master/insurance.csv'\n",
        "df = pd.read_csv(url)"
      ],
      "execution_count": null,
      "outputs": []
    },
    {
      "cell_type": "code",
      "metadata": {
        "id": "t8zhlwFfe6MI",
        "colab_type": "code",
        "colab": {
          "base_uri": "https://localhost:8080/",
          "height": 217
        },
        "outputId": "e53f1e66-8106-4729-c8c0-c401c1e33031"
      },
      "source": [
        "# print the First 10 Rows of the data\n",
        "print(df.head(10))"
      ],
      "execution_count": null,
      "outputs": [
        {
          "output_type": "stream",
          "text": [
            "   age     sex     bmi  children smoker     region      charges\n",
            "0   19  female  27.900         0    yes  southwest  16884.92400\n",
            "1   18    male  33.770         1     no  southeast   1725.55230\n",
            "2   28    male  33.000         3     no  southeast   4449.46200\n",
            "3   33    male  22.705         0     no  northwest  21984.47061\n",
            "4   32    male  28.880         0     no  northwest   3866.85520\n",
            "5   31  female  25.740         0     no  southeast   3756.62160\n",
            "6   46  female  33.440         1     no  southeast   8240.58960\n",
            "7   37  female  27.740         3     no  northwest   7281.50560\n",
            "8   37    male  29.830         2     no  northeast   6406.41070\n",
            "9   60  female  25.840         0     no  northwest  28923.13692\n"
          ],
          "name": "stdout"
        }
      ]
    },
    {
      "cell_type": "markdown",
      "metadata": {
        "id": "CrJmJFQDg3gR",
        "colab_type": "text"
      },
      "source": [
        "ENCODE THE LABEL OF (sex,smoker,region)\n"
      ]
    },
    {
      "cell_type": "code",
      "metadata": {
        "id": "-Kptp5O-fj41",
        "colab_type": "code",
        "colab": {}
      },
      "source": [
        "# import preprocessing module from sklearn\n",
        "from sklearn import preprocessing\n",
        "# use LabelEncoder() method of preprocessing module\n",
        "label_encoder = preprocessing.LabelEncoder()\n",
        "# encode the label of {sex,smoker,region}\n",
        "df['sex'] = label_encoder.fit_transform(df['sex'])\n",
        "df['smoker'] = label_encoder.fit_transform(df['smoker'])\n",
        "df['region'] = label_encoder.fit_transform(df['region'])"
      ],
      "execution_count": null,
      "outputs": []
    },
    {
      "cell_type": "code",
      "metadata": {
        "id": "fjdI-IeOg_QN",
        "colab_type": "code",
        "colab": {
          "base_uri": "https://localhost:8080/",
          "height": 417
        },
        "outputId": "9d5ee3cc-0f81-46dd-9880-5733a92c9704"
      },
      "source": [
        "# print the first 10 rows of the dataset after label encoding\n",
        "print(df.head(10))\n",
        "# print the last 10 rows of the dataset after label encoding\n",
        "print(df.head(10))"
      ],
      "execution_count": null,
      "outputs": [
        {
          "output_type": "stream",
          "text": [
            "   age  sex     bmi  children  smoker  region      charges\n",
            "0   19    0  27.900         0       1       3  16884.92400\n",
            "1   18    1  33.770         1       0       2   1725.55230\n",
            "2   28    1  33.000         3       0       2   4449.46200\n",
            "3   33    1  22.705         0       0       1  21984.47061\n",
            "4   32    1  28.880         0       0       1   3866.85520\n",
            "5   31    0  25.740         0       0       2   3756.62160\n",
            "6   46    0  33.440         1       0       2   8240.58960\n",
            "7   37    0  27.740         3       0       1   7281.50560\n",
            "8   37    1  29.830         2       0       0   6406.41070\n",
            "9   60    0  25.840         0       0       1  28923.13692\n",
            "   age  sex     bmi  children  smoker  region      charges\n",
            "0   19    0  27.900         0       1       3  16884.92400\n",
            "1   18    1  33.770         1       0       2   1725.55230\n",
            "2   28    1  33.000         3       0       2   4449.46200\n",
            "3   33    1  22.705         0       0       1  21984.47061\n",
            "4   32    1  28.880         0       0       1   3866.85520\n",
            "5   31    0  25.740         0       0       2   3756.62160\n",
            "6   46    0  33.440         1       0       2   8240.58960\n",
            "7   37    0  27.740         3       0       1   7281.50560\n",
            "8   37    1  29.830         2       0       0   6406.41070\n",
            "9   60    0  25.840         0       0       1  28923.13692\n"
          ],
          "name": "stdout"
        }
      ]
    },
    {
      "cell_type": "markdown",
      "metadata": {
        "id": "yyYLWBLlhT-f",
        "colab_type": "text"
      },
      "source": [
        "CHECK THE NULL VALUES IN THE DATASET"
      ]
    },
    {
      "cell_type": "code",
      "metadata": {
        "id": "TiR61pJzhL0i",
        "colab_type": "code",
        "colab": {
          "base_uri": "https://localhost:8080/",
          "height": 290
        },
        "outputId": "af847dfc-1152-45cf-a054-9f195947396a"
      },
      "source": [
        "print(df.info())"
      ],
      "execution_count": null,
      "outputs": [
        {
          "output_type": "stream",
          "text": [
            "<class 'pandas.core.frame.DataFrame'>\n",
            "RangeIndex: 1338 entries, 0 to 1337\n",
            "Data columns (total 7 columns):\n",
            " #   Column    Non-Null Count  Dtype  \n",
            "---  ------    --------------  -----  \n",
            " 0   age       1338 non-null   int64  \n",
            " 1   sex       1338 non-null   int64  \n",
            " 2   bmi       1338 non-null   float64\n",
            " 3   children  1338 non-null   int64  \n",
            " 4   smoker    1338 non-null   int64  \n",
            " 5   region    1338 non-null   int64  \n",
            " 6   charges   1338 non-null   float64\n",
            "dtypes: float64(2), int64(5)\n",
            "memory usage: 73.3 KB\n",
            "None\n"
          ],
          "name": "stdout"
        }
      ]
    },
    {
      "cell_type": "markdown",
      "metadata": {
        "id": "gwvUxrPmjB0P",
        "colab_type": "text"
      },
      "source": [
        "STORE FEATURE IN \"X\" AND TARGET IN \"Y\""
      ]
    },
    {
      "cell_type": "code",
      "metadata": {
        "id": "XQbUL6KPirzM",
        "colab_type": "code",
        "colab": {}
      },
      "source": [
        "X = df.iloc[:,:6]\n",
        "Y = df.iloc[:,6:7]"
      ],
      "execution_count": null,
      "outputs": []
    },
    {
      "cell_type": "code",
      "metadata": {
        "id": "wIhsIj6BjN-1",
        "colab_type": "code",
        "colab": {
          "base_uri": "https://localhost:8080/",
          "height": 235
        },
        "outputId": "04f5cca5-a1a4-4c21-82e6-008b358849eb"
      },
      "source": [
        "print(X.head(5))\n",
        "print(Y.head(5))"
      ],
      "execution_count": null,
      "outputs": [
        {
          "output_type": "stream",
          "text": [
            "   age  sex     bmi  children  smoker  region\n",
            "0   19    0  27.900         0       1       3\n",
            "1   18    1  33.770         1       0       2\n",
            "2   28    1  33.000         3       0       2\n",
            "3   33    1  22.705         0       0       1\n",
            "4   32    1  28.880         0       0       1\n",
            "       charges\n",
            "0  16884.92400\n",
            "1   1725.55230\n",
            "2   4449.46200\n",
            "3  21984.47061\n",
            "4   3866.85520\n"
          ],
          "name": "stdout"
        }
      ]
    },
    {
      "cell_type": "markdown",
      "metadata": {
        "id": "Yf93d4qEj685",
        "colab_type": "text"
      },
      "source": [
        "SPLITING THE DATASET FOR TRAIN AND TEST (0.75)"
      ]
    },
    {
      "cell_type": "code",
      "metadata": {
        "id": "d5JYdBBZj-NB",
        "colab_type": "code",
        "colab": {}
      },
      "source": [
        "from sklearn.model_selection import train_test_split\n",
        "x_test,x_train,y_test,y_train = train_test_split(X,Y,test_size=.75,random_state=1)"
      ],
      "execution_count": null,
      "outputs": []
    },
    {
      "cell_type": "code",
      "metadata": {
        "id": "CEfv2Iyzm6YZ",
        "colab_type": "code",
        "colab": {
          "base_uri": "https://localhost:8080/",
          "height": 53
        },
        "outputId": "309ee0db-9235-4f63-fac8-dddf4f491fb9"
      },
      "source": [
        "print(x_train.shape)\n",
        "print(x_test.shape)"
      ],
      "execution_count": null,
      "outputs": [
        {
          "output_type": "stream",
          "text": [
            "(1004, 6)\n",
            "(334, 6)\n"
          ],
          "name": "stdout"
        }
      ]
    },
    {
      "cell_type": "code",
      "metadata": {
        "id": "5LSSD8gqqZHD",
        "colab_type": "code",
        "colab": {}
      },
      "source": [
        "from sklearn.linear_model import LinearRegression\n",
        "reg = LinearRegression().fit(x_train, y_train)"
      ],
      "execution_count": null,
      "outputs": []
    },
    {
      "cell_type": "code",
      "metadata": {
        "id": "VBVj3xT-qili",
        "colab_type": "code",
        "colab": {}
      },
      "source": [
        "y_pred=reg.predict(x_test)"
      ],
      "execution_count": null,
      "outputs": []
    },
    {
      "cell_type": "code",
      "metadata": {
        "id": "arNFz_j83aDl",
        "colab_type": "code",
        "colab": {
          "base_uri": "https://localhost:8080/",
          "height": 35
        },
        "outputId": "9724cf4d-1a0d-4d63-ae19-702795c3204b"
      },
      "source": [
        "from sklearn.metrics import r2_score\n",
        "r2_score(y_test, y_pred)"
      ],
      "execution_count": null,
      "outputs": [
        {
          "output_type": "execute_result",
          "data": {
            "text/plain": [
              "0.7750664729662823"
            ]
          },
          "metadata": {
            "tags": []
          },
          "execution_count": 41
        }
      ]
    },
    {
      "cell_type": "code",
      "metadata": {
        "id": "PWSmyu_nAdSq",
        "colab_type": "code",
        "colab": {}
      },
      "source": [
        ""
      ],
      "execution_count": null,
      "outputs": []
    }
  ]
}